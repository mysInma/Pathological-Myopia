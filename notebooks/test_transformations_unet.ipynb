{
 "cells": [
  {
   "cell_type": "code",
   "execution_count": 1,
   "metadata": {},
   "outputs": [],
   "source": [
    "import sys\n",
    "sys.path.insert(0,\"../\")\n",
    "import torchvision.transforms as transforms\n",
    "from utils.dataloader import UNETDataset\n",
    "from torch.utils.data import DataLoader\n",
    "from tqdm import tqdm\n",
    "from albumentations import HorizontalFlip, VerticalFlip, Rotate\n",
    "import cv2\n",
    "\n",
    "\n",
    "def load_data(batch_size, shuffle=True):\n",
    "    \n",
    "    train_features = UNETDataset(\"../train_unet/Unet_train.csv\",\"../../train_unet/\",transform=False)\n",
    "    train_loader = DataLoader(train_features, batch_size=batch_size, shuffle=shuffle)\n",
    "    \n",
    "    val_dataset = UNETDataset(\"../train_unet/Unet_val.csv\",\"../../train_unet/\",transform=False)\n",
    "    val_loader = DataLoader(val_dataset,batch_size=batch_size, shuffle=False)\n",
    "    \n",
    "    \n",
    "    return train_loader, val_loader \n",
    "\n",
    "def augment_data(images, masks, augment=True):\n",
    "    size = (512,512)\n",
    "    \n",
    "    for x, y in tqdm(zip(images, masks), total=len(images)):\n",
    "            \n",
    "            x = cv2.imread(x, cv2.IMREAD_COLOR)\n",
    "            y = cv2.imread(y, cv2.IMREAD_COLOR)\n",
    "            \n",
    "            if augment == True:\n",
    "                aug = HorizontalFlip(p=1.0)\n",
    "                augmented = aug(image=x, mask=y)\n",
    "                x1 = augmented[\"image\"]\n",
    "                y1 = augmented[\"mask\"]\n",
    "                \n",
    "                aug = VerticalFlip(p=1.0)\n",
    "                augmented = aug(image=x, mask=y)\n",
    "                x2 = augmented[\"image\"]\n",
    "                y2 = augmented[\"mask\"]\n",
    "                \n",
    "                aug = Rotate(limit=45, p=1.0)\n",
    "                augmented = aug(image=x, mask=y)\n",
    "                x3 = augmented[\"image\"]\n",
    "                y3 = augmented[\"mask\"]\n",
    "                \n",
    "                \n",
    "                X = [x, x1, x2, x3]\n",
    "                Y = [y, y1, y2, y3]\n",
    "    \n",
    "    return X, Y\n",
    "\n",
    "    \n",
    "             \n",
    "    "
   ]
  }
 ],
 "metadata": {
  "kernelspec": {
   "display_name": "Python 3",
   "language": "python",
   "name": "python3"
  },
  "language_info": {
   "codemirror_mode": {
    "name": "ipython",
    "version": 3
   },
   "file_extension": ".py",
   "mimetype": "text/x-python",
   "name": "python",
   "nbconvert_exporter": "python",
   "pygments_lexer": "ipython3",
   "version": "3.8.10"
  },
  "orig_nbformat": 4
 },
 "nbformat": 4,
 "nbformat_minor": 2
}
