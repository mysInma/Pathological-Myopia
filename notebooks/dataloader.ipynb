{
 "cells": [
  {
   "cell_type": "code",
   "execution_count": 11,
   "id": "38e8fe0a-6c92-4f21-b765-e19adea1e87a",
   "metadata": {
    "tags": []
   },
   "outputs": [],
   "source": [
    "from utils.dataloader_dali import SimpleDALIGenericIterator\n",
    "import pandas as pd"
   ]
  },
  {
   "cell_type": "code",
   "execution_count": 12,
   "id": "73ee2e4d-d155-4b67-97f9-bdb3da5cfafe",
   "metadata": {
    "tags": []
   },
   "outputs": [
    {
     "ename": "TypeError",
     "evalue": "define_graph() takes 0 positional arguments but 1 was given",
     "output_type": "error",
     "traceback": [
      "\u001b[0;31m---------------------------------------------------------------------------\u001b[0m",
      "\u001b[0;31mTypeError\u001b[0m                                 Traceback (most recent call last)",
      "Cell \u001b[0;32mIn[12], line 2\u001b[0m\n\u001b[1;32m      1\u001b[0m train_pipe \u001b[38;5;241m=\u001b[39m SimpleDALIGenericIterator(\u001b[38;5;124m\"\u001b[39m\u001b[38;5;124m../test\u001b[39m\u001b[38;5;124m\"\u001b[39m, \u001b[38;5;241m6\u001b[39m, \u001b[38;5;241m0\u001b[39m)\n\u001b[0;32m----> 2\u001b[0m \u001b[43mtrain_pipe\u001b[49m\u001b[38;5;241;43m.\u001b[39;49m\u001b[43mbuild\u001b[49m\u001b[43m(\u001b[49m\u001b[43m)\u001b[49m \u001b[38;5;66;03m#Se construye el pipeline\u001b[39;00m\n\u001b[1;32m      4\u001b[0m \u001b[38;5;28;01mfor\u001b[39;00m i \u001b[38;5;129;01min\u001b[39;00m \u001b[38;5;28mrange\u001b[39m(\u001b[38;5;241m10\u001b[39m): \u001b[38;5;66;03m#bucle de 10 iteraciones, para obtener una tanda de datos de 6 imágenes\u001b[39;00m\n\u001b[1;32m      5\u001b[0m     data \u001b[38;5;241m=\u001b[39m train_pipe\u001b[38;5;241m.\u001b[39mrun() \u001b[38;5;66;03m#contiene los tenserores DALI con las imágenes decodificadas.\u001b[39;00m\n",
      "File \u001b[0;32m/usr/local/lib/python3.8/dist-packages/nvidia/dali/pipeline.py:823\u001b[0m, in \u001b[0;36mPipeline.build\u001b[0;34m(self, define_graph)\u001b[0m\n\u001b[1;32m    819\u001b[0m \u001b[38;5;28;01mif\u001b[39;00m \u001b[38;5;28mself\u001b[39m\u001b[38;5;241m.\u001b[39mnum_threads \u001b[38;5;241m<\u001b[39m \u001b[38;5;241m1\u001b[39m:\n\u001b[1;32m    820\u001b[0m     \u001b[38;5;28;01mraise\u001b[39;00m \u001b[38;5;167;01mValueError\u001b[39;00m(\u001b[38;5;124m\"\u001b[39m\u001b[38;5;124mPipeline created with `num_threads` < 1 can only be used \u001b[39m\u001b[38;5;124m\"\u001b[39m\n\u001b[1;32m    821\u001b[0m                      \u001b[38;5;124m\"\u001b[39m\u001b[38;5;124mfor serialization.\u001b[39m\u001b[38;5;124m\"\u001b[39m)\n\u001b[0;32m--> 823\u001b[0m \u001b[38;5;28;43mself\u001b[39;49m\u001b[38;5;241;43m.\u001b[39;49m\u001b[43mstart_py_workers\u001b[49m\u001b[43m(\u001b[49m\u001b[43m)\u001b[49m\n\u001b[1;32m    824\u001b[0m \u001b[38;5;28;01mif\u001b[39;00m \u001b[38;5;129;01mnot\u001b[39;00m \u001b[38;5;28mself\u001b[39m\u001b[38;5;241m.\u001b[39m_backend_prepared:\n\u001b[1;32m    825\u001b[0m     \u001b[38;5;28mself\u001b[39m\u001b[38;5;241m.\u001b[39m_init_pipeline_backend()\n",
      "File \u001b[0;32m/usr/local/lib/python3.8/dist-packages/nvidia/dali/pipeline.py:794\u001b[0m, in \u001b[0;36mPipeline.start_py_workers\u001b[0;34m(self)\u001b[0m\n\u001b[1;32m    771\u001b[0m \u001b[38;5;250m\u001b[39m\u001b[38;5;124;03m\"\"\"\u001b[39;00m\n\u001b[1;32m    772\u001b[0m \u001b[38;5;124;03mStart Python workers (that will run ``ExternalSource`` callbacks).\u001b[39;00m\n\u001b[1;32m    773\u001b[0m \u001b[38;5;124;03mYou need to call :meth:`start_py_workers` before you call any functionality that creates\u001b[39;00m\n\u001b[0;32m   (...)\u001b[0m\n\u001b[1;32m    791\u001b[0m \u001b[38;5;124;03mwhen calling :meth:`build`.\u001b[39;00m\n\u001b[1;32m    792\u001b[0m \u001b[38;5;124;03m\"\"\"\u001b[39;00m\n\u001b[1;32m    793\u001b[0m \u001b[38;5;28;01mif\u001b[39;00m \u001b[38;5;129;01mnot\u001b[39;00m \u001b[38;5;28mself\u001b[39m\u001b[38;5;241m.\u001b[39m_py_graph_built:\n\u001b[0;32m--> 794\u001b[0m     \u001b[38;5;28;43mself\u001b[39;49m\u001b[38;5;241;43m.\u001b[39;49m\u001b[43m_build_graph\u001b[49m\u001b[43m(\u001b[49m\u001b[43m)\u001b[49m\n\u001b[1;32m    795\u001b[0m \u001b[38;5;28;01mif\u001b[39;00m \u001b[38;5;129;01mnot\u001b[39;00m \u001b[38;5;28mself\u001b[39m\u001b[38;5;241m.\u001b[39m_py_pool_started:\n\u001b[1;32m    796\u001b[0m     \u001b[38;5;28mself\u001b[39m\u001b[38;5;241m.\u001b[39m_start_py_workers()\n",
      "File \u001b[0;32m/usr/local/lib/python3.8/dist-packages/nvidia/dali/pipeline.py:593\u001b[0m, in \u001b[0;36mPipeline._build_graph\u001b[0;34m(self, define_graph)\u001b[0m\n\u001b[1;32m    591\u001b[0m \u001b[38;5;28;01melse\u001b[39;00m:\n\u001b[1;32m    592\u001b[0m     \u001b[38;5;28;01mwith\u001b[39;00m \u001b[38;5;28mself\u001b[39m:\n\u001b[0;32m--> 593\u001b[0m         outputs \u001b[38;5;241m=\u001b[39m \u001b[43mdefine_graph\u001b[49m\u001b[43m(\u001b[49m\u001b[43m)\u001b[49m\n\u001b[1;32m    594\u001b[0m \u001b[38;5;28;01mif\u001b[39;00m \u001b[38;5;28misinstance\u001b[39m(outputs, \u001b[38;5;28mtuple\u001b[39m):\n\u001b[1;32m    595\u001b[0m     outputs \u001b[38;5;241m=\u001b[39m \u001b[38;5;28mlist\u001b[39m(outputs)\n",
      "\u001b[0;31mTypeError\u001b[0m: define_graph() takes 0 positional arguments but 1 was given"
     ]
    }
   ],
   "source": [
    "    train_pipe = SimpleDALIGenericIterator(\"../test\", 6, 0)\n",
    "    train_pipe.build() #Se construye el pipeline\n",
    "    \n",
    "    for i in range(10): #bucle de 10 iteraciones, para obtener una tanda de datos de 6 imágenes\n",
    "        data = train_pipe.run() #contiene los tenserores DALI con las imágenes decodificadas.\n",
    "        print(data)\n",
    "        images = data[0].as_cpu().as_array() #se accede primera entra de la lista y se convierte en una matriz numpy"
   ]
  },
  {
   "cell_type": "code",
   "execution_count": 40,
   "id": "0704cf77-bfaa-4eb4-a79a-a0ea33c125b8",
   "metadata": {
    "tags": []
   },
   "outputs": [],
   "source": [
    "from nvidia.dali import pipeline_def\n",
    "import nvidia.dali.fn as fn\n",
    "import nvidia.dali.types as types\n",
    "\n",
    "image_dir = \"../test/\"\n",
    "max_batch_size = 2\n",
    "\n",
    "\n",
    "@pipeline_def\n",
    "def simple_pipeline():\n",
    "    jpegs, labels = fn.readers.file(file_root=image_dir,device='gpu')\n",
    "    images = fn.decoders.image(jpegs)\n",
    "\n",
    "    return images, labels\n",
    "\n"
   ]
  },
  {
   "cell_type": "code",
   "execution_count": 41,
   "id": "b267e43d-d696-4b16-bf18-3c5f2b33a3d6",
   "metadata": {
    "tags": []
   },
   "outputs": [],
   "source": [
    "pipe = simple_pipeline(batch_size=2, num_threads=1, device_id=0)"
   ]
  },
  {
   "cell_type": "code",
   "execution_count": 42,
   "id": "d225a79c-588d-4db3-91ca-6e6862024e8d",
   "metadata": {
    "tags": []
   },
   "outputs": [
    {
     "ename": "RuntimeError",
     "evalue": "Critical error when building pipeline:\nError when constructing operator: readers__File encountered:\n[/opt/dali/dali/pipeline/operator/operator_factory.h:54] Assert on \"creator_it != registry_.end()\" failed: Operator \"readers__File\" not registered for gpu.\nStacktrace (83 entries):\n[frame 0]: /usr/local/lib/python3.8/dist-packages/nvidia/dali/libdali.so(+0x847ff) [0x7fa1ed0c87ff]\n[frame 1]: /usr/local/lib/python3.8/dist-packages/nvidia/dali/libdali.so(+0x15dc5d) [0x7fa1ed1a1c5d]\n[frame 2]: /usr/local/lib/python3.8/dist-packages/nvidia/dali/libdali.so(dali::InstantiateOperator(dali::OpSpec const&)+0x264) [0x7fa1ed19f114]\n[frame 3]: /usr/local/lib/python3.8/dist-packages/nvidia/dali/libdali.so(dali::OpGraph::InstantiateOperators()+0x8e) [0x7fa1ed15586e]\n[frame 4]: /usr/local/lib/python3.8/dist-packages/nvidia/dali/libdali.so(dali::Pipeline::Build(std::vector<dali::PipelineOutputDesc, std::allocator<dali::PipelineOutputDesc> >)+0x7ec) [0x7fa1ed1bbc2c]\n[frame 5]: /usr/local/lib/python3.8/dist-packages/nvidia/dali/backend_impl.cpython-38-x86_64-linux-gnu.so(+0x5d0f2) [0x7fa1d98080f2]\n[frame 6]: /usr/local/lib/python3.8/dist-packages/nvidia/dali/backend_impl.cpython-38-x86_64-linux-gnu.so(+0xa5f05) [0x7fa1d9850f05]\n[frame 7]: /usr/bin/python(PyCFunction_Call+0x59) [0x5f6929]\n[frame 8]: /usr/bin/python(_PyObject_MakeTpCall+0x296) [0x5f74f6]\n[frame 9]: /usr/bin/python() [0x50c383]\n[frame 10]: /usr/bin/python(_PyEval_EvalFrameDefault+0x5786) [0x570b26]\n[frame 11]: /usr/bin/python(_PyEval_EvalCodeWithName+0x26a) [0x569dba]\n[frame 12]: /usr/bin/python(_PyFunction_Vectorcall+0x393) [0x5f6eb3]\n[frame 13]: /usr/bin/python(_PyEval_EvalFrameDefault+0x85a) [0x56bbfa]\n[frame 14]: /usr/bin/python(_PyEval_EvalCodeWithName+0x26a) [0x569dba]\n[frame 15]: /usr/bin/python(PyEval_EvalCode+0x27) [0x6902a7]\n[frame 16]: /usr/bin/python() [0x6023c4]\n[frame 17]: /usr/bin/python() [0x5c6730]\n[frame 18]: /usr/bin/python(_PyEval_EvalFrameDefault+0x72d) [0x56bacd]\n[frame 19]: /usr/bin/python() [0x501488]\n[frame 20]: /usr/bin/python(_PyEval_EvalFrameDefault+0x2136) [0x56d4d6]\n[frame 21]: /usr/bin/python() [0x501488]\n[frame 22]: /usr/bin/python(_PyEval_EvalFrameDefault+0x2136) [0x56d4d6]\n[frame 23]: /usr/bin/python() [0x501488]\n[frame 24]: /usr/bin/python() [0x505166]\n[frame 25]: /usr/bin/python(_PyEval_EvalFrameDefault+0x85a) [0x56bbfa]\n[frame 26]: /usr/bin/python(_PyFunction_Vectorcall+0x1b6) [0x5f6cd6]\n[frame 27]: /usr/bin/python(_PyEval_EvalFrameDefault+0x72d) [0x56bacd]\n[frame 28]: /usr/bin/python(_PyFunction_Vectorcall+0x1b6) [0x5f6cd6]\n[frame 29]: /usr/bin/python(_PyEval_EvalFrameDefault+0x85a) [0x56bbfa]\n[frame 30]: /usr/bin/python(_PyEval_EvalCodeWithName+0x26a) [0x569dba]\n[frame 31]: /usr/bin/python(_PyFunction_Vectorcall+0x393) [0x5f6eb3]\n[frame 32]: /usr/bin/python() [0x50bc2c]\n[frame 33]: /usr/bin/python(PyObject_Call+0x62) [0x5f6082]\n[frame 34]: /usr/bin/python(_PyEval_EvalFrameDefault+0x1f35) [0x56d2d5]\n[frame 35]: /usr/bin/python(_PyEval_EvalCodeWithName+0x26a) [0x569dba]\n[frame 36]: /usr/bin/python() [0x50bca0]\n[frame 37]: /usr/bin/python(_PyEval_EvalFrameDefault+0x187f) [0x56cc1f]\n[frame 38]: /usr/bin/python() [0x501488]\n[frame 39]: /usr/bin/python(_PyEval_EvalFrameDefault+0x2136) [0x56d4d6]\n[frame 40]: /usr/bin/python() [0x501488]\n[frame 41]: /usr/bin/python(_PyEval_EvalFrameDefault+0x2136) [0x56d4d6]\n[frame 42]: /usr/bin/python() [0x501488]\n[frame 43]: /usr/bin/python(_PyEval_EvalFrameDefault+0x2136) [0x56d4d6]\n[frame 44]: /usr/bin/python() [0x501488]\n[frame 45]: /usr/bin/python(_PyEval_EvalFrameDefault+0x2136) [0x56d4d6]\n[frame 46]: /usr/bin/python() [0x501488]\n[frame 47]: /usr/lib/python3.8/lib-dynload/_asyncio.cpython-38-x86_64-linux-gnu.so(+0x7ef9) [0x7fa2011a9ef9]\n[frame 48]: /usr/lib/python3.8/lib-dynload/_asyncio.cpython-38-x86_64-linux-gnu.so(+0x9083) [0x7fa2011ab083]\n[frame 49]: /usr/bin/python(_PyObject_MakeTpCall+0x296) [0x5f74f6]\n[frame 50]: /usr/bin/python() [0x600f63]\n[frame 51]: /usr/bin/python() [0x5c6617]\n[frame 52]: /usr/bin/python(PyVectorcall_Call+0x58) [0x5f6648]\n[frame 53]: /usr/bin/python(_PyEval_EvalFrameDefault+0x691b) [0x571cbb]\n[frame 54]: /usr/bin/python(_PyFunction_Vectorcall+0x1b6) [0x5f6cd6]\n[frame 55]: /usr/bin/python(_PyEval_EvalFrameDefault+0x85a) [0x56bbfa]\n[frame 56]: /usr/bin/python(_PyFunction_Vectorcall+0x1b6) [0x5f6cd6]\n[frame 57]: /usr/bin/python(_PyEval_EvalFrameDefault+0x85a) [0x56bbfa]\n[frame 58]: /usr/bin/python(_PyFunction_Vectorcall+0x1b6) [0x5f6cd6]\n[frame 59]: /usr/bin/python(_PyEval_EvalFrameDefault+0x85a) [0x56bbfa]\n[frame 60]: /usr/bin/python(_PyFunction_Vectorcall+0x1b6) [0x5f6cd6]\n[frame 61]: /usr/bin/python(_PyEval_EvalFrameDefault+0x85a) [0x56bbfa]\n[frame 62]: /usr/bin/python(_PyFunction_Vectorcall+0x1b6) [0x5f6cd6]\n[frame 63]: /usr/bin/python(_PyEval_EvalFrameDefault+0x85a) [0x56bbfa]\n[frame 64]: /usr/bin/python(_PyEval_EvalCodeWithName+0x26a) [0x569dba]\n[frame 65]: /usr/bin/python() [0x50bca0]\n[frame 66]: /usr/bin/python(_PyEval_EvalFrameDefault+0x5786) [0x570b26]\n[frame 67]: /usr/bin/python(_PyEval_EvalCodeWithName+0x26a) [0x569dba]\n[frame 68]: /usr/bin/python(PyEval_EvalCode+0x27) [0x6902a7]\n[frame 69]: /usr/bin/python() [0x6023c4]\n[frame 70]: /usr/bin/python() [0x5c6730]\n[frame 71]: /usr/bin/python(_PyEval_EvalFrameDefault+0x72d) [0x56bacd]\n[frame 72]: /usr/bin/python(_PyEval_EvalCodeWithName+0x26a) [0x569dba]\n[frame 73]: /usr/bin/python(_PyFunction_Vectorcall+0x393) [0x5f6eb3]\n[frame 74]: /usr/bin/python(_PyEval_EvalFrameDefault+0x72d) [0x56bacd]\n[frame 75]: /usr/bin/python(_PyEval_EvalCodeWithName+0x26a) [0x569dba]\n[frame 76]: /usr/bin/python(_PyFunction_Vectorcall+0x393) [0x5f6eb3]\n[frame 77]: /usr/bin/python(PyObject_Call+0x62) [0x5f6082]\n[frame 78]: /usr/bin/python() [0x6b9a92]\n[frame 79]: /usr/bin/python(Py_RunMain+0x379) [0x6b9e99]\n[frame 80]: /usr/bin/python(Py_BytesMain+0x2d) [0x6ba0bd]\n[frame 81]: /usr/lib/x86_64-linux-gnu/libc.so.6(__libc_start_main+0xf3) [0x7fa20381a083]\n[frame 82]: /usr/bin/python(_start+0x2e) [0x5fc5fe]\n\nCurrent pipeline object is no longer valid.",
     "output_type": "error",
     "traceback": [
      "\u001b[0;31m---------------------------------------------------------------------------\u001b[0m",
      "\u001b[0;31mRuntimeError\u001b[0m                              Traceback (most recent call last)",
      "Cell \u001b[0;32mIn[42], line 1\u001b[0m\n\u001b[0;32m----> 1\u001b[0m \u001b[43mpipe\u001b[49m\u001b[38;5;241;43m.\u001b[39;49m\u001b[43mbuild\u001b[49m\u001b[43m(\u001b[49m\u001b[43m)\u001b[49m\n",
      "File \u001b[0;32m/usr/local/lib/python3.8/dist-packages/nvidia/dali/pipeline.py:828\u001b[0m, in \u001b[0;36mPipeline.build\u001b[0;34m(self, define_graph)\u001b[0m\n\u001b[1;32m    825\u001b[0m     \u001b[38;5;28mself\u001b[39m\u001b[38;5;241m.\u001b[39m_init_pipeline_backend()\n\u001b[1;32m    826\u001b[0m \u001b[38;5;28mself\u001b[39m\u001b[38;5;241m.\u001b[39m_setup_pipe_pool_dependency()\n\u001b[0;32m--> 828\u001b[0m \u001b[38;5;28;43mself\u001b[39;49m\u001b[38;5;241;43m.\u001b[39;49m\u001b[43m_pipe\u001b[49m\u001b[38;5;241;43m.\u001b[39;49m\u001b[43mBuild\u001b[49m\u001b[43m(\u001b[49m\u001b[38;5;28;43mself\u001b[39;49m\u001b[38;5;241;43m.\u001b[39;49m\u001b[43m_generate_build_args\u001b[49m\u001b[43m(\u001b[49m\u001b[43m)\u001b[49m\u001b[43m)\u001b[49m\n\u001b[1;32m    829\u001b[0m \u001b[38;5;28mself\u001b[39m\u001b[38;5;241m.\u001b[39m_built \u001b[38;5;241m=\u001b[39m \u001b[38;5;28;01mTrue\u001b[39;00m\n",
      "\u001b[0;31mRuntimeError\u001b[0m: Critical error when building pipeline:\nError when constructing operator: readers__File encountered:\n[/opt/dali/dali/pipeline/operator/operator_factory.h:54] Assert on \"creator_it != registry_.end()\" failed: Operator \"readers__File\" not registered for gpu.\nStacktrace (83 entries):\n[frame 0]: /usr/local/lib/python3.8/dist-packages/nvidia/dali/libdali.so(+0x847ff) [0x7fa1ed0c87ff]\n[frame 1]: /usr/local/lib/python3.8/dist-packages/nvidia/dali/libdali.so(+0x15dc5d) [0x7fa1ed1a1c5d]\n[frame 2]: /usr/local/lib/python3.8/dist-packages/nvidia/dali/libdali.so(dali::InstantiateOperator(dali::OpSpec const&)+0x264) [0x7fa1ed19f114]\n[frame 3]: /usr/local/lib/python3.8/dist-packages/nvidia/dali/libdali.so(dali::OpGraph::InstantiateOperators()+0x8e) [0x7fa1ed15586e]\n[frame 4]: /usr/local/lib/python3.8/dist-packages/nvidia/dali/libdali.so(dali::Pipeline::Build(std::vector<dali::PipelineOutputDesc, std::allocator<dali::PipelineOutputDesc> >)+0x7ec) [0x7fa1ed1bbc2c]\n[frame 5]: /usr/local/lib/python3.8/dist-packages/nvidia/dali/backend_impl.cpython-38-x86_64-linux-gnu.so(+0x5d0f2) [0x7fa1d98080f2]\n[frame 6]: /usr/local/lib/python3.8/dist-packages/nvidia/dali/backend_impl.cpython-38-x86_64-linux-gnu.so(+0xa5f05) [0x7fa1d9850f05]\n[frame 7]: /usr/bin/python(PyCFunction_Call+0x59) [0x5f6929]\n[frame 8]: /usr/bin/python(_PyObject_MakeTpCall+0x296) [0x5f74f6]\n[frame 9]: /usr/bin/python() [0x50c383]\n[frame 10]: /usr/bin/python(_PyEval_EvalFrameDefault+0x5786) [0x570b26]\n[frame 11]: /usr/bin/python(_PyEval_EvalCodeWithName+0x26a) [0x569dba]\n[frame 12]: /usr/bin/python(_PyFunction_Vectorcall+0x393) [0x5f6eb3]\n[frame 13]: /usr/bin/python(_PyEval_EvalFrameDefault+0x85a) [0x56bbfa]\n[frame 14]: /usr/bin/python(_PyEval_EvalCodeWithName+0x26a) [0x569dba]\n[frame 15]: /usr/bin/python(PyEval_EvalCode+0x27) [0x6902a7]\n[frame 16]: /usr/bin/python() [0x6023c4]\n[frame 17]: /usr/bin/python() [0x5c6730]\n[frame 18]: /usr/bin/python(_PyEval_EvalFrameDefault+0x72d) [0x56bacd]\n[frame 19]: /usr/bin/python() [0x501488]\n[frame 20]: /usr/bin/python(_PyEval_EvalFrameDefault+0x2136) [0x56d4d6]\n[frame 21]: /usr/bin/python() [0x501488]\n[frame 22]: /usr/bin/python(_PyEval_EvalFrameDefault+0x2136) [0x56d4d6]\n[frame 23]: /usr/bin/python() [0x501488]\n[frame 24]: /usr/bin/python() [0x505166]\n[frame 25]: /usr/bin/python(_PyEval_EvalFrameDefault+0x85a) [0x56bbfa]\n[frame 26]: /usr/bin/python(_PyFunction_Vectorcall+0x1b6) [0x5f6cd6]\n[frame 27]: /usr/bin/python(_PyEval_EvalFrameDefault+0x72d) [0x56bacd]\n[frame 28]: /usr/bin/python(_PyFunction_Vectorcall+0x1b6) [0x5f6cd6]\n[frame 29]: /usr/bin/python(_PyEval_EvalFrameDefault+0x85a) [0x56bbfa]\n[frame 30]: /usr/bin/python(_PyEval_EvalCodeWithName+0x26a) [0x569dba]\n[frame 31]: /usr/bin/python(_PyFunction_Vectorcall+0x393) [0x5f6eb3]\n[frame 32]: /usr/bin/python() [0x50bc2c]\n[frame 33]: /usr/bin/python(PyObject_Call+0x62) [0x5f6082]\n[frame 34]: /usr/bin/python(_PyEval_EvalFrameDefault+0x1f35) [0x56d2d5]\n[frame 35]: /usr/bin/python(_PyEval_EvalCodeWithName+0x26a) [0x569dba]\n[frame 36]: /usr/bin/python() [0x50bca0]\n[frame 37]: /usr/bin/python(_PyEval_EvalFrameDefault+0x187f) [0x56cc1f]\n[frame 38]: /usr/bin/python() [0x501488]\n[frame 39]: /usr/bin/python(_PyEval_EvalFrameDefault+0x2136) [0x56d4d6]\n[frame 40]: /usr/bin/python() [0x501488]\n[frame 41]: /usr/bin/python(_PyEval_EvalFrameDefault+0x2136) [0x56d4d6]\n[frame 42]: /usr/bin/python() [0x501488]\n[frame 43]: /usr/bin/python(_PyEval_EvalFrameDefault+0x2136) [0x56d4d6]\n[frame 44]: /usr/bin/python() [0x501488]\n[frame 45]: /usr/bin/python(_PyEval_EvalFrameDefault+0x2136) [0x56d4d6]\n[frame 46]: /usr/bin/python() [0x501488]\n[frame 47]: /usr/lib/python3.8/lib-dynload/_asyncio.cpython-38-x86_64-linux-gnu.so(+0x7ef9) [0x7fa2011a9ef9]\n[frame 48]: /usr/lib/python3.8/lib-dynload/_asyncio.cpython-38-x86_64-linux-gnu.so(+0x9083) [0x7fa2011ab083]\n[frame 49]: /usr/bin/python(_PyObject_MakeTpCall+0x296) [0x5f74f6]\n[frame 50]: /usr/bin/python() [0x600f63]\n[frame 51]: /usr/bin/python() [0x5c6617]\n[frame 52]: /usr/bin/python(PyVectorcall_Call+0x58) [0x5f6648]\n[frame 53]: /usr/bin/python(_PyEval_EvalFrameDefault+0x691b) [0x571cbb]\n[frame 54]: /usr/bin/python(_PyFunction_Vectorcall+0x1b6) [0x5f6cd6]\n[frame 55]: /usr/bin/python(_PyEval_EvalFrameDefault+0x85a) [0x56bbfa]\n[frame 56]: /usr/bin/python(_PyFunction_Vectorcall+0x1b6) [0x5f6cd6]\n[frame 57]: /usr/bin/python(_PyEval_EvalFrameDefault+0x85a) [0x56bbfa]\n[frame 58]: /usr/bin/python(_PyFunction_Vectorcall+0x1b6) [0x5f6cd6]\n[frame 59]: /usr/bin/python(_PyEval_EvalFrameDefault+0x85a) [0x56bbfa]\n[frame 60]: /usr/bin/python(_PyFunction_Vectorcall+0x1b6) [0x5f6cd6]\n[frame 61]: /usr/bin/python(_PyEval_EvalFrameDefault+0x85a) [0x56bbfa]\n[frame 62]: /usr/bin/python(_PyFunction_Vectorcall+0x1b6) [0x5f6cd6]\n[frame 63]: /usr/bin/python(_PyEval_EvalFrameDefault+0x85a) [0x56bbfa]\n[frame 64]: /usr/bin/python(_PyEval_EvalCodeWithName+0x26a) [0x569dba]\n[frame 65]: /usr/bin/python() [0x50bca0]\n[frame 66]: /usr/bin/python(_PyEval_EvalFrameDefault+0x5786) [0x570b26]\n[frame 67]: /usr/bin/python(_PyEval_EvalCodeWithName+0x26a) [0x569dba]\n[frame 68]: /usr/bin/python(PyEval_EvalCode+0x27) [0x6902a7]\n[frame 69]: /usr/bin/python() [0x6023c4]\n[frame 70]: /usr/bin/python() [0x5c6730]\n[frame 71]: /usr/bin/python(_PyEval_EvalFrameDefault+0x72d) [0x56bacd]\n[frame 72]: /usr/bin/python(_PyEval_EvalCodeWithName+0x26a) [0x569dba]\n[frame 73]: /usr/bin/python(_PyFunction_Vectorcall+0x393) [0x5f6eb3]\n[frame 74]: /usr/bin/python(_PyEval_EvalFrameDefault+0x72d) [0x56bacd]\n[frame 75]: /usr/bin/python(_PyEval_EvalCodeWithName+0x26a) [0x569dba]\n[frame 76]: /usr/bin/python(_PyFunction_Vectorcall+0x393) [0x5f6eb3]\n[frame 77]: /usr/bin/python(PyObject_Call+0x62) [0x5f6082]\n[frame 78]: /usr/bin/python() [0x6b9a92]\n[frame 79]: /usr/bin/python(Py_RunMain+0x379) [0x6b9e99]\n[frame 80]: /usr/bin/python(Py_BytesMain+0x2d) [0x6ba0bd]\n[frame 81]: /usr/lib/x86_64-linux-gnu/libc.so.6(__libc_start_main+0xf3) [0x7fa20381a083]\n[frame 82]: /usr/bin/python(_start+0x2e) [0x5fc5fe]\n\nCurrent pipeline object is no longer valid."
     ]
    }
   ],
   "source": [
    "pipe.build()"
   ]
  },
  {
   "cell_type": "code",
   "execution_count": 39,
   "id": "0010700c-88e4-46de-9a8c-251a6882eb72",
   "metadata": {
    "tags": []
   },
   "outputs": [
    {
     "name": "stdout",
     "output_type": "stream",
     "text": [
      "(TensorListCPU(\n",
      "    [[[[0 0 0]\n",
      "       [0 0 0]\n",
      "       ...\n",
      "       [0 0 0]\n",
      "       [0 0 0]]\n",
      "\n",
      "      [[0 0 0]\n",
      "       [0 0 0]\n",
      "       ...\n",
      "       [0 0 0]\n",
      "       [0 0 0]]\n",
      "\n",
      "      ...\n",
      "\n",
      "      [[0 0 0]\n",
      "       [0 0 0]\n",
      "       ...\n",
      "       [0 0 0]\n",
      "       [0 0 0]]\n",
      "\n",
      "      [[0 0 0]\n",
      "       [0 0 0]\n",
      "       ...\n",
      "       [0 0 0]\n",
      "       [0 0 0]]]\n",
      "\n",
      "\n",
      "     [[[0 0 0]\n",
      "       [0 0 0]\n",
      "       ...\n",
      "       [0 0 0]\n",
      "       [0 0 0]]\n",
      "\n",
      "      [[0 0 0]\n",
      "       [0 0 0]\n",
      "       ...\n",
      "       [0 0 0]\n",
      "       [0 0 0]]\n",
      "\n",
      "      ...\n",
      "\n",
      "      [[0 0 0]\n",
      "       [0 0 0]\n",
      "       ...\n",
      "       [0 0 0]\n",
      "       [0 0 0]]\n",
      "\n",
      "      [[0 0 0]\n",
      "       [0 0 0]\n",
      "       ...\n",
      "       [0 0 0]\n",
      "       [0 0 0]]]],\n",
      "    dtype=DALIDataType.UINT8,\n",
      "    layout=\"HWC\",\n",
      "    num_samples=2,\n",
      "    shape=[(1444, 1444, 3), (1444, 1444, 3)]), TensorListCPU(\n",
      "    [[0]\n",
      "     [0]],\n",
      "    dtype=DALIDataType.INT32,\n",
      "    num_samples=2,\n",
      "    shape=[(1,), (1,)]))\n"
     ]
    }
   ],
   "source": [
    "pipe_out = pipe.run()\n",
    "print(pipe_out)"
   ]
  },
  {
   "cell_type": "code",
   "execution_count": null,
   "id": "344bde0d-a3a8-4d5f-862e-4dd999bcb8c3",
   "metadata": {},
   "outputs": [],
   "source": []
  }
 ],
 "metadata": {
  "kernelspec": {
   "display_name": "Python 3 (ipykernel)",
   "language": "python",
   "name": "python3"
  },
  "language_info": {
   "codemirror_mode": {
    "name": "ipython",
    "version": 3
   },
   "file_extension": ".py",
   "mimetype": "text/x-python",
   "name": "python",
   "nbconvert_exporter": "python",
   "pygments_lexer": "ipython3",
   "version": "3.8.10"
  }
 },
 "nbformat": 4,
 "nbformat_minor": 5
}
