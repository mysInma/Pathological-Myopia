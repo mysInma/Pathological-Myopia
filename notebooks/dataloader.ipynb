{
 "cells": [
  {
   "cell_type": "code",
   "execution_count": 11,
   "id": "38e8fe0a-6c92-4f21-b765-e19adea1e87a",
   "metadata": {
    "tags": []
   },
   "outputs": [],
   "source": [
    "from utils.dataloader_dali import SimpleDALIGenericIterator\n",
    "import pandas as pd"
   ]
  },
  {
   "cell_type": "code",
   "execution_count": 12,
   "id": "73ee2e4d-d155-4b67-97f9-bdb3da5cfafe",
   "metadata": {
    "tags": []
   },
   "outputs": [
    {
     "ename": "TypeError",
     "evalue": "define_graph() takes 0 positional arguments but 1 was given",
     "output_type": "error",
     "traceback": [
      "\u001b[0;31m---------------------------------------------------------------------------\u001b[0m",
      "\u001b[0;31mTypeError\u001b[0m                                 Traceback (most recent call last)",
      "Cell \u001b[0;32mIn[12], line 2\u001b[0m\n\u001b[1;32m      1\u001b[0m train_pipe \u001b[38;5;241m=\u001b[39m SimpleDALIGenericIterator(\u001b[38;5;124m\"\u001b[39m\u001b[38;5;124m../test\u001b[39m\u001b[38;5;124m\"\u001b[39m, \u001b[38;5;241m6\u001b[39m, \u001b[38;5;241m0\u001b[39m)\n\u001b[0;32m----> 2\u001b[0m \u001b[43mtrain_pipe\u001b[49m\u001b[38;5;241;43m.\u001b[39;49m\u001b[43mbuild\u001b[49m\u001b[43m(\u001b[49m\u001b[43m)\u001b[49m \u001b[38;5;66;03m#Se construye el pipeline\u001b[39;00m\n\u001b[1;32m      4\u001b[0m \u001b[38;5;28;01mfor\u001b[39;00m i \u001b[38;5;129;01min\u001b[39;00m \u001b[38;5;28mrange\u001b[39m(\u001b[38;5;241m10\u001b[39m): \u001b[38;5;66;03m#bucle de 10 iteraciones, para obtener una tanda de datos de 6 imágenes\u001b[39;00m\n\u001b[1;32m      5\u001b[0m     data \u001b[38;5;241m=\u001b[39m train_pipe\u001b[38;5;241m.\u001b[39mrun() \u001b[38;5;66;03m#contiene los tenserores DALI con las imágenes decodificadas.\u001b[39;00m\n",
      "File \u001b[0;32m/usr/local/lib/python3.8/dist-packages/nvidia/dali/pipeline.py:823\u001b[0m, in \u001b[0;36mPipeline.build\u001b[0;34m(self, define_graph)\u001b[0m\n\u001b[1;32m    819\u001b[0m \u001b[38;5;28;01mif\u001b[39;00m \u001b[38;5;28mself\u001b[39m\u001b[38;5;241m.\u001b[39mnum_threads \u001b[38;5;241m<\u001b[39m \u001b[38;5;241m1\u001b[39m:\n\u001b[1;32m    820\u001b[0m     \u001b[38;5;28;01mraise\u001b[39;00m \u001b[38;5;167;01mValueError\u001b[39;00m(\u001b[38;5;124m\"\u001b[39m\u001b[38;5;124mPipeline created with `num_threads` < 1 can only be used \u001b[39m\u001b[38;5;124m\"\u001b[39m\n\u001b[1;32m    821\u001b[0m                      \u001b[38;5;124m\"\u001b[39m\u001b[38;5;124mfor serialization.\u001b[39m\u001b[38;5;124m\"\u001b[39m)\n\u001b[0;32m--> 823\u001b[0m \u001b[38;5;28;43mself\u001b[39;49m\u001b[38;5;241;43m.\u001b[39;49m\u001b[43mstart_py_workers\u001b[49m\u001b[43m(\u001b[49m\u001b[43m)\u001b[49m\n\u001b[1;32m    824\u001b[0m \u001b[38;5;28;01mif\u001b[39;00m \u001b[38;5;129;01mnot\u001b[39;00m \u001b[38;5;28mself\u001b[39m\u001b[38;5;241m.\u001b[39m_backend_prepared:\n\u001b[1;32m    825\u001b[0m     \u001b[38;5;28mself\u001b[39m\u001b[38;5;241m.\u001b[39m_init_pipeline_backend()\n",
      "File \u001b[0;32m/usr/local/lib/python3.8/dist-packages/nvidia/dali/pipeline.py:794\u001b[0m, in \u001b[0;36mPipeline.start_py_workers\u001b[0;34m(self)\u001b[0m\n\u001b[1;32m    771\u001b[0m \u001b[38;5;250m\u001b[39m\u001b[38;5;124;03m\"\"\"\u001b[39;00m\n\u001b[1;32m    772\u001b[0m \u001b[38;5;124;03mStart Python workers (that will run ``ExternalSource`` callbacks).\u001b[39;00m\n\u001b[1;32m    773\u001b[0m \u001b[38;5;124;03mYou need to call :meth:`start_py_workers` before you call any functionality that creates\u001b[39;00m\n\u001b[0;32m   (...)\u001b[0m\n\u001b[1;32m    791\u001b[0m \u001b[38;5;124;03mwhen calling :meth:`build`.\u001b[39;00m\n\u001b[1;32m    792\u001b[0m \u001b[38;5;124;03m\"\"\"\u001b[39;00m\n\u001b[1;32m    793\u001b[0m \u001b[38;5;28;01mif\u001b[39;00m \u001b[38;5;129;01mnot\u001b[39;00m \u001b[38;5;28mself\u001b[39m\u001b[38;5;241m.\u001b[39m_py_graph_built:\n\u001b[0;32m--> 794\u001b[0m     \u001b[38;5;28;43mself\u001b[39;49m\u001b[38;5;241;43m.\u001b[39;49m\u001b[43m_build_graph\u001b[49m\u001b[43m(\u001b[49m\u001b[43m)\u001b[49m\n\u001b[1;32m    795\u001b[0m \u001b[38;5;28;01mif\u001b[39;00m \u001b[38;5;129;01mnot\u001b[39;00m \u001b[38;5;28mself\u001b[39m\u001b[38;5;241m.\u001b[39m_py_pool_started:\n\u001b[1;32m    796\u001b[0m     \u001b[38;5;28mself\u001b[39m\u001b[38;5;241m.\u001b[39m_start_py_workers()\n",
      "File \u001b[0;32m/usr/local/lib/python3.8/dist-packages/nvidia/dali/pipeline.py:593\u001b[0m, in \u001b[0;36mPipeline._build_graph\u001b[0;34m(self, define_graph)\u001b[0m\n\u001b[1;32m    591\u001b[0m \u001b[38;5;28;01melse\u001b[39;00m:\n\u001b[1;32m    592\u001b[0m     \u001b[38;5;28;01mwith\u001b[39;00m \u001b[38;5;28mself\u001b[39m:\n\u001b[0;32m--> 593\u001b[0m         outputs \u001b[38;5;241m=\u001b[39m \u001b[43mdefine_graph\u001b[49m\u001b[43m(\u001b[49m\u001b[43m)\u001b[49m\n\u001b[1;32m    594\u001b[0m \u001b[38;5;28;01mif\u001b[39;00m \u001b[38;5;28misinstance\u001b[39m(outputs, \u001b[38;5;28mtuple\u001b[39m):\n\u001b[1;32m    595\u001b[0m     outputs \u001b[38;5;241m=\u001b[39m \u001b[38;5;28mlist\u001b[39m(outputs)\n",
      "\u001b[0;31mTypeError\u001b[0m: define_graph() takes 0 positional arguments but 1 was given"
     ]
    }
   ],
   "source": [
    "    train_pipe = SimpleDALIGenericIterator(\"../test\", 6, 0)\n",
    "    train_pipe.build() #Se construye el pipeline\n",
    "    \n",
    "    for i in range(10): #bucle de 10 iteraciones, para obtener una tanda de datos de 6 imágenes\n",
    "        data = train_pipe.run() #contiene los tenserores DALI con las imágenes decodificadas.\n",
    "        print(data)\n",
    "        images = data[0].as_cpu().as_array() #se accede primera entra de la lista y se convierte en una matriz numpy"
   ]
  },
  {
   "cell_type": "code",
   "execution_count": null,
   "id": "0704cf77-bfaa-4eb4-a79a-a0ea33c125b8",
   "metadata": {},
   "outputs": [],
   "source": []
  }
 ],
 "metadata": {
  "kernelspec": {
   "display_name": "Python 3 (ipykernel)",
   "language": "python",
   "name": "python3"
  },
  "language_info": {
   "codemirror_mode": {
    "name": "ipython",
    "version": 3
   },
   "file_extension": ".py",
   "mimetype": "text/x-python",
   "name": "python",
   "nbconvert_exporter": "python",
   "pygments_lexer": "ipython3",
   "version": "3.8.10"
  }
 },
 "nbformat": 4,
 "nbformat_minor": 5
}
