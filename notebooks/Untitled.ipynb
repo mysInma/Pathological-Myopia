{
 "cells": [
  {
   "cell_type": "code",
   "execution_count": 7,
   "id": "417c8786-b47b-4d9a-bd0e-1be2b28d2d7d",
   "metadata": {
    "tags": []
   },
   "outputs": [],
   "source": [
    "import pandas as pd\n",
    "from utils.createCSV import createCSV"
   ]
  },
  {
   "cell_type": "code",
   "execution_count": 8,
   "id": "b7976409-1f52-4fd5-bdc8-917915108042",
   "metadata": {
    "tags": []
   },
   "outputs": [],
   "source": [
    "createCSV(\"../test\",\"./output.csv\")"
   ]
  },
  {
   "cell_type": "code",
   "execution_count": 6,
   "id": "bb1d0bef-17df-49ee-8c8d-5c5f405cb6ab",
   "metadata": {},
   "outputs": [
    {
     "ename": "ModuleNotFoundError",
     "evalue": "No module named 'dataloader'",
     "output_type": "error",
     "traceback": [
      "\u001b[1;31m---------------------------------------------------------------------------\u001b[0m",
      "\u001b[1;31mModuleNotFoundError\u001b[0m                       Traceback (most recent call last)",
      "Cell \u001b[1;32mIn[6], line 1\u001b[0m\n\u001b[1;32m----> 1\u001b[0m \u001b[39mfrom\u001b[39;00m \u001b[39mdataloader\u001b[39;00m \u001b[39mimport\u001b[39;00m CustomImageDataset\n\u001b[0;32m      2\u001b[0m \u001b[39mimport\u001b[39;00m \u001b[39mtorchvision\u001b[39;00m\u001b[39m.\u001b[39;00m\u001b[39mtransforms\u001b[39;00m \u001b[39mas\u001b[39;00m \u001b[39mtransforms\u001b[39;00m\n\u001b[0;32m      3\u001b[0m train_transforms \u001b[39m=\u001b[39m transforms\u001b[39m.\u001b[39mCompose([transforms\u001b[39m.\u001b[39mResize((\u001b[39m224\u001b[39m,\u001b[39m224\u001b[39m)), transforms\u001b[39m.\u001b[39mToTensor()])\n",
      "\u001b[1;31mModuleNotFoundError\u001b[0m: No module named 'dataloader'"
     ]
    }
   ],
   "source": [
    "from utils.dataloader import CustomImageDataset\n",
    "import torchvision.transforms as transforms\n",
    "train_transforms = transforms.Compose([transforms.Resize((224,224)), transforms.ToTensor()])\n",
    "from matplotlib import pyplot as plt"
   ]
  },
  {
   "cell_type": "code",
   "execution_count": null,
   "id": "d1ebcdb4-7f56-41d9-9e01-81948362831c",
   "metadata": {},
   "outputs": [],
   "source": [
    "train_features, train_labels = next(iter(CustomImageDataset(\"./output.csv\",train_transforms)))\n",
    "print(f\"Feature batch shape: {train_features.size()}\")\n",
    "print(f\"Labels batch shape: {train_labels}\")\n",
    "img = train_features[0].squeeze()\n",
    "label = train_labels[0]\n",
    "plt.imshow(img, cmap=\"gray\")\n",
    "plt.show()\n",
    "print(f\"Label: {label}\")"
   ]
  },
  {
   "cell_type": "code",
   "execution_count": null,
   "id": "a8784b04-5f26-45e3-97b2-4cda609c1d2c",
   "metadata": {},
   "outputs": [],
   "source": [
    "import torch"
   ]
  },
  {
   "cell_type": "code",
   "execution_count": null,
   "id": "a5d279e7-f276-42aa-9185-b33521740ce7",
   "metadata": {},
   "outputs": [],
   "source": [
    "torch.cuda.is_available()"
   ]
  },
  {
   "cell_type": "code",
   "execution_count": null,
   "id": "b3352e29-d120-4413-8a00-3717a27a5c2c",
   "metadata": {},
   "outputs": [],
   "source": [
    "!nvidia-smi"
   ]
  },
  {
   "cell_type": "code",
   "execution_count": null,
   "id": "84d83f56-8421-4b32-adc1-768704c3021d",
   "metadata": {},
   "outputs": [],
   "source": []
  }
 ],
 "metadata": {
  "kernelspec": {
   "display_name": "Python 3 (ipykernel)",
   "language": "python",
   "name": "python3"
  },
  "language_info": {
   "codemirror_mode": {
    "name": "ipython",
    "version": 3
   },
   "file_extension": ".py",
   "mimetype": "text/x-python",
   "name": "python",
   "nbconvert_exporter": "python",
   "pygments_lexer": "ipython3",
   "version": "3.8.10"
  },
  "vscode": {
   "interpreter": {
    "hash": "d76ba21e6eae2e13e62226ebd67156605bc19c056c44a630234e7d191e24953e"
   }
  }
 },
 "nbformat": 4,
 "nbformat_minor": 5
}
