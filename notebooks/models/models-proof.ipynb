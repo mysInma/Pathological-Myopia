{
 "cells": [
  {
   "cell_type": "code",
   "execution_count": 12,
   "metadata": {},
   "outputs": [],
   "source": [
    "import sys\n",
    "sys.path.insert(0,\"../\")"
   ]
  },
  {
   "cell_type": "code",
   "execution_count": 13,
   "metadata": {},
   "outputs": [],
   "source": [
    "from utils.createCSV import resnetCSV"
   ]
  },
  {
   "cell_type": "code",
   "execution_count": 14,
   "metadata": {},
   "outputs": [],
   "source": [
    "resnetCSV(\"../../data/Training/PALM-Training400\",\"../train_resnet50\",None)"
   ]
  },
  {
   "cell_type": "code",
   "execution_count": 18,
   "metadata": {},
   "outputs": [
    {
     "name": "stderr",
     "output_type": "stream",
     "text": [
      " 56%|█████▌    | 40/72 [00:41<00:33,  1.04s/it]\n"
     ]
    }
   ],
   "source": [
    "import sys\n",
    "sys.path.insert(0,\"../\")\n",
    "from models.resnet50 import MyopiaClasificationModel\n",
    "from utils.dataloader import ResnetDataset\n",
    "from utils.transformations import CustomTransformations\n",
    "from torch.utils.data import DataLoader\n",
    "import torch\n",
    "config = {\n",
    "        \"batch_size\":4,\n",
    "        \"img_size\":512,\n",
    "        \"num_workers\":4,\n",
    "        \"num_classes\":3,\n",
    "        \"lr\":1e-3\n",
    "    }\n",
    "model = MyopiaClasificationModel.load_from_checkpoint(\"./new-model-checkpoint/resnet50H-epoch=5-train_val_acc=0.89.ckpt\")\n",
    "\n",
    "val_dataset = ResnetDataset(\"../train_resnet50/resnet_val.csv\",\"../../train_resnet50/\",transform=CustomTransformations(config[\"img_size\"]))\n",
    "val_loader = DataLoader(val_dataset,batch_size=config[\"batch_size\"],num_workers=config[\"num_workers\"],shuffle=False)\n",
    "\n",
    "model.eval()\n",
    "import numpy as np \n",
    "predicted = np.array([])\n",
    "target = np.array([])\n",
    "from tqdm import tqdm\n",
    "with tqdm(total=72) as pbar:\n",
    "    for x,y in val_loader:\n",
    "        with torch.no_grad():\n",
    "            yhat = model(x)\n",
    "        y_pred = torch.argmax(yhat, dim=1).cpu().numpy() # predicted labels\n",
    "        y_true = y.cpu().numpy() # true labels\n",
    "        predicted = np.append(predicted,y_pred)\n",
    "        target = np.append(target,y_true)\n",
    "        pbar.update(2)"
   ]
  },
  {
   "cell_type": "code",
   "execution_count": 19,
   "metadata": {},
   "outputs": [
    {
     "data": {
      "text/plain": [
       "<AxesSubplot: >"
      ]
     },
     "execution_count": 19,
     "metadata": {},
     "output_type": "execute_result"
    },
    {
     "data": {
      "image/png": "[encoded data removed]",
      "text/plain": [
       "<Figure size 640x480 with 2 Axes>"
      ]
     },
     "metadata": {},
     "output_type": "display_data"
    }
   ],
   "source": [
    "from sklearn.metrics import confusion_matrix\n",
    "import seaborn as sns\n",
    "\n",
    "conf = confusion_matrix(target,predicted)\n",
    "\n",
    "xticklabels=[\"N\",\"P\", \"H\"]\n",
    "sns.heatmap(conf,annot=True,cmap=\"coolwarm\",xticklabels=xticklabels,yticklabels=xticklabels)"
   ]
  },
  {
   "cell_type": "code",
   "execution_count": null,
   "metadata": {},
   "outputs": [],
   "source": []
  }
 ],
 "metadata": {
  "kernelspec": {
   "display_name": "Python 3",
   "language": "python",
   "name": "python3"
  },
  "language_info": {
   "codemirror_mode": {
    "name": "ipython",
    "version": 3
   },
   "file_extension": ".py",
   "mimetype": "text/x-python",
   "name": "python",
   "nbconvert_exporter": "python",
   "pygments_lexer": "ipython3",
   "version": "3.8.10"
  },
  "orig_nbformat": 4
 },
 "nbformat": 4,
 "nbformat_minor": 2
}
